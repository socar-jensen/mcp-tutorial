{
 "cells": [
  {
   "cell_type": "markdown",
   "id": "1c10b768-f5b4-43bc-a785-99077422ce78",
   "metadata": {},
   "source": [
    "# Lesson 3: Chatbot 예제"
   ]
  },
  {
   "cell_type": "markdown",
   "id": "85d4fedc-4b90-4754-9f2d-fd3cfa321a14",
   "metadata": {},
   "source": [
    "이 수업에서는 코스 전반에 걸쳐 작업할 chatbot 예제를 살펴보겠습니다. 예제에는 tool 정의 및 실행과 chatbot 코드가 포함되어 있습니다. notebook 마지막에서 chatbot과 상호작용해 보세요."
   ]
  },
  {
   "cell_type": "markdown",
   "id": "e0ed96ba-5ade-4af4-9096-406ce48d5cf2",
   "metadata": {},
   "source": [
    "## Library Import"
   ]
  },
  {
   "cell_type": "code",
   "execution_count": 2,
   "id": "dd6bd1d4-f652-45d1-9efa-155a2cc01713",
   "metadata": {
    "ExecuteTime": {
     "end_time": "2025-09-25T17:12:57.935675Z",
     "start_time": "2025-09-25T17:12:57.933426Z"
    }
   },
   "outputs": [],
   "source": [
    "import arxiv\n",
    "import json\n",
    "import os\n",
    "from typing import List\n",
    "from dotenv import load_dotenv\n",
    "from google import genai\n",
    "from google.genai import types"
   ]
  },
  {
   "cell_type": "markdown",
   "id": "f20f163a-87af-4e0c-87ed-1624c150c572",
   "metadata": {},
   "source": [
    "## Tool Function들"
   ]
  },
  {
   "cell_type": "code",
   "execution_count": 3,
   "id": "549a7f46-74b3-4a1d-b084-055c99e3c318",
   "metadata": {
    "ExecuteTime": {
     "end_time": "2025-09-25T17:12:59.468596Z",
     "start_time": "2025-09-25T17:12:59.466893Z"
    }
   },
   "outputs": [],
   "source": [
    "PAPER_DIR = \"papers\""
   ]
  },
  {
   "cell_type": "markdown",
   "id": "9e43905e-56f3-404c-a322-f038055e9b1c",
   "metadata": {},
   "source": [
    "첫 번째 tool은 주제를 기반으로 관련 arXiv paper를 검색하고 해당 논문들의 정보(제목, 저자, 요약, PDF URL, 발행일)를 JSON 파일에 저장합니다. JSON 파일들은 `papers` 디렉토리 내에서 주제별로 구성됩니다. 이 tool은 논문을 다운로드하지는 않습니다."
   ]
  },
  {
   "cell_type": "code",
   "execution_count": 4,
   "id": "886633b8-ce67-4343-822d-cc3f98f953fa",
   "metadata": {
    "ExecuteTime": {
     "end_time": "2025-09-25T17:13:01.095025Z",
     "start_time": "2025-09-25T17:13:01.091315Z"
    }
   },
   "outputs": [],
   "source": [
    "def search_papers(topic: str, max_results: int = 5) -> List[str]:\n",
    "    \"\"\"\n",
    "    Search for papers on arXiv based on a topic and store their information.\n",
    "    \n",
    "    Args:\n",
    "        topic: The topic to search for\n",
    "        max_results: Maximum number of results to retrieve (default: 5)\n",
    "        \n",
    "    Returns:\n",
    "        List of paper IDs found in the search\n",
    "    \"\"\"\n",
    "    \n",
    "    # Use arxiv to find the papers \n",
    "    client = arxiv.Client()\n",
    "\n",
    "    # Search for the most relevant articles matching the queried topic\n",
    "    search = arxiv.Search(\n",
    "        query = topic,\n",
    "        max_results = max_results,\n",
    "        sort_by = arxiv.SortCriterion.Relevance\n",
    "    )\n",
    "\n",
    "    papers = client.results(search)\n",
    "    \n",
    "    # Create directory for this topic\n",
    "    path = os.path.join(PAPER_DIR, topic.lower().replace(\" \", \"_\"))\n",
    "    os.makedirs(path, exist_ok=True)\n",
    "    \n",
    "    file_path = os.path.join(path, \"papers_info.json\")\n",
    "\n",
    "    # Try to load existing papers info\n",
    "    try:\n",
    "        with open(file_path, \"r\") as json_file:\n",
    "            papers_info = json.load(json_file)\n",
    "    except (FileNotFoundError, json.JSONDecodeError):\n",
    "        papers_info = {}\n",
    "\n",
    "    # Process each paper and add to papers_info  \n",
    "    paper_ids = []\n",
    "    for paper in papers:\n",
    "        paper_ids.append(paper.get_short_id())\n",
    "        paper_info = {\n",
    "            'title': paper.title,\n",
    "            'authors': [author.name for author in paper.authors],\n",
    "            'summary': paper.summary,\n",
    "            'pdf_url': paper.pdf_url,\n",
    "            'published': str(paper.published.date())\n",
    "        }\n",
    "        papers_info[paper.get_short_id()] = paper_info\n",
    "    \n",
    "    # Save updated papers_info to json file\n",
    "    with open(file_path, \"w\") as json_file:\n",
    "        json.dump(papers_info, json_file, indent=2)\n",
    "    \n",
    "    print(f\"Results are saved in: {file_path}\")\n",
    "    \n",
    "    return paper_ids"
   ]
  },
  {
   "cell_type": "code",
   "execution_count": 5,
   "id": "d20ee17a-afe6-438a-95b1-6e87742c7fac",
   "metadata": {
    "ExecuteTime": {
     "end_time": "2025-09-25T17:13:01.916921Z",
     "start_time": "2025-09-25T17:13:01.806667Z"
    }
   },
   "outputs": [
    {
     "name": "stdout",
     "output_type": "stream",
     "text": [
      "Results are saved in: papers/computers/papers_info.json\n"
     ]
    },
    {
     "data": {
      "text/plain": [
       "['1310.7911v2',\n",
       " 'math/9711204v1',\n",
       " '2208.00733v1',\n",
       " '2504.07020v1',\n",
       " '2403.03925v1']"
      ]
     },
     "execution_count": 5,
     "metadata": {},
     "output_type": "execute_result"
    }
   ],
   "source": [
    "search_papers(\"computers\")"
   ]
  },
  {
   "cell_type": "markdown",
   "id": "dfb83565-69af-47f3-9ba3-a96965cff7df",
   "metadata": {},
   "source": [
    "두 번째 tool은 `papers` 디렉토리 내의 모든 주제 디렉토리에서 특정 논문에 대한 정보를 찾습니다."
   ]
  },
  {
   "cell_type": "code",
   "execution_count": 6,
   "id": "df9b1997-81cd-447d-9665-1cb72d93bb9a",
   "metadata": {
    "ExecuteTime": {
     "end_time": "2025-09-25T17:13:03.173601Z",
     "start_time": "2025-09-25T17:13:03.170139Z"
    }
   },
   "outputs": [],
   "source": [
    "def extract_info(paper_id: str) -> str:\n",
    "    \"\"\"\n",
    "    Search for information about a specific paper across all topic directories.\n",
    "    \n",
    "    Args:\n",
    "        paper_id: The ID of the paper to look for\n",
    "        \n",
    "    Returns:\n",
    "        JSON string with paper information if found, error message if not found\n",
    "    \"\"\"\n",
    " \n",
    "    for item in os.listdir(PAPER_DIR):\n",
    "        item_path = os.path.join(PAPER_DIR, item)\n",
    "        if os.path.isdir(item_path):\n",
    "            file_path = os.path.join(item_path, \"papers_info.json\")\n",
    "            if os.path.isfile(file_path):\n",
    "                try:\n",
    "                    with open(file_path, \"r\") as json_file:\n",
    "                        papers_info = json.load(json_file)\n",
    "                        if paper_id in papers_info:\n",
    "                            return json.dumps(papers_info[paper_id], indent=2)\n",
    "                except (FileNotFoundError, json.JSONDecodeError) as e:\n",
    "                    print(f\"Error reading {file_path}: {str(e)}\")\n",
    "                    continue\n",
    "    \n",
    "    return f\"There's no saved information related to paper {paper_id}.\""
   ]
  },
  {
   "cell_type": "code",
   "execution_count": 7,
   "id": "0ebe0de7-8f07-4e08-a670-7b371fc3d2d9",
   "metadata": {
    "ExecuteTime": {
     "end_time": "2025-09-25T17:13:03.994200Z",
     "start_time": "2025-09-25T17:13:03.991712Z"
    }
   },
   "outputs": [
    {
     "data": {
      "text/plain": [
       "'{\\n  \"title\": \"Compact manifolds with computable boundaries\",\\n  \"authors\": [\\n    \"Zvonko Iljazovic\"\\n  ],\\n  \"summary\": \"We investigate conditions under which a co-computably enumerable closed set\\\\nin a computable metric space is computable and prove that in each locally\\\\ncomputable computable metric space each co-computably enumerable compact\\\\nmanifold with computable boundary is computable. In fact, we examine the notion\\\\nof a semi-computable compact set and we prove a more general result: in any\\\\ncomputable metric space each semi-computable compact manifold with computable\\\\nboundary is computable. In particular, each semi-computable compact\\\\n(boundaryless) manifold is computable.\",\\n  \"pdf_url\": \"http://arxiv.org/pdf/1310.7911v2\",\\n  \"published\": \"2013-10-29\"\\n}'"
      ]
     },
     "execution_count": 7,
     "metadata": {},
     "output_type": "execute_result"
    }
   ],
   "source": [
    "extract_info('1310.7911v2')"
   ]
  },
  {
   "cell_type": "markdown",
   "id": "b5ea3013-e690-4bc8-8622-27b4d42d61e4",
   "metadata": {},
   "source": [
    "## Tool Schema"
   ]
  },
  {
   "cell_type": "markdown",
   "id": "7c7d2260-452d-472a-b56e-326479cb18c9",
   "metadata": {},
   "source": [
    "LLM에 제공할 각 tool의 schema입니다."
   ]
  },
  {
   "cell_type": "code",
   "execution_count": 8,
   "id": "e5bdea5f-e93a-4018-8c13-00d5ee10c0b7",
   "metadata": {
    "ExecuteTime": {
     "end_time": "2025-09-25T17:13:05.908372Z",
     "start_time": "2025-09-25T17:13:05.905437Z"
    }
   },
   "outputs": [],
   "source": [
    "gemini_tools = [\n",
    "    {\n",
    "        \"name\": \"search_papers\",\n",
    "        \"description\": \"Search for papers on arXiv based on a topic and store their information.\",\n",
    "        \"parameters\": {\n",
    "            \"type\": \"object\",\n",
    "            \"properties\": {\n",
    "                \"topic\": {\n",
    "                    \"type\": \"string\",\n",
    "                    \"description\": \"The topic to search for\"\n",
    "                }, \n",
    "                \"max_results\": {\n",
    "                    \"type\": \"integer\",\n",
    "                    \"description\": \"Maximum number of results to retrieve\",\n",
    "                    \"default\": 5\n",
    "                }\n",
    "            },\n",
    "            \"required\": [\"topic\"]\n",
    "        }\n",
    "    },\n",
    "    {\n",
    "        \"name\": \"extract_info\",\n",
    "        \"description\": \"Search for information about a specific paper across all topic directories.\",\n",
    "        \"parameters\": {\n",
    "            \"type\": \"object\",\n",
    "            \"properties\": {\n",
    "                \"paper_id\": {\n",
    "                    \"type\": \"string\",\n",
    "                    \"description\": \"The ID of the paper to look for\"\n",
    "                }\n",
    "            },\n",
    "            \"required\": [\"paper_id\"]\n",
    "        }\n",
    "    }\n",
    "]\n",
    "\n",
    "# Create tools for Gemini\n",
    "tools = types.Tool(function_declarations=gemini_tools)"
   ]
  },
  {
   "cell_type": "markdown",
   "id": "ec668d24-1559-41b7-bc8a-e2dca77dfaf2",
   "metadata": {},
   "source": [
    "## Tool Mapping"
   ]
  },
  {
   "cell_type": "markdown",
   "id": "c728c1ec-36b1-48b4-9f85-622464ac79f4",
   "metadata": {},
   "source": [
    "이 코드는 tool mapping과 실행을 처리합니다."
   ]
  },
  {
   "cell_type": "code",
   "execution_count": 9,
   "id": "c90790c0-efc4-4068-9c00-d2592d80bc30",
   "metadata": {
    "ExecuteTime": {
     "end_time": "2025-09-25T17:13:08.008648Z",
     "start_time": "2025-09-25T17:13:08.006419Z"
    }
   },
   "outputs": [],
   "source": [
    "mapping_tool_function = {\n",
    "    \"search_papers\": search_papers,\n",
    "    \"extract_info\": extract_info\n",
    "}\n",
    "\n",
    "def execute_tool(tool_name, tool_args):\n",
    "    \n",
    "    result = mapping_tool_function[tool_name](**tool_args)\n",
    "\n",
    "    if result is None:\n",
    "        result = \"The operation completed but didn't return any results.\"\n",
    "        \n",
    "    elif isinstance(result, list):\n",
    "        result = ', '.join(result)\n",
    "        \n",
    "    elif isinstance(result, dict):\n",
    "        # Convert dictionaries to formatted JSON strings\n",
    "        result = json.dumps(result, indent=2)\n",
    "    \n",
    "    else:\n",
    "        # For any other type, convert using str()\n",
    "        result = str(result)\n",
    "    return result"
   ]
  },
  {
   "cell_type": "markdown",
   "id": "4d8fc4d3-58ac-482c-8bbd-bccd6ef9fc31",
   "metadata": {},
   "source": [
    "## Chatbot 코드"
   ]
  },
  {
   "cell_type": "markdown",
   "id": "e9ba0fad-b0e4-4415-a431-341e9ca85087",
   "metadata": {},
   "source": [
    "Chatbot은 사용자의 query를 하나씩 처리하지만, query들 간에 메모리를 유지하지는 않습니다."
   ]
  },
  {
   "cell_type": "code",
   "execution_count": 10,
   "id": "fe662400-8506-464e-a3da-75a3d8848bac",
   "metadata": {
    "ExecuteTime": {
     "end_time": "2025-09-25T17:13:12.626140Z",
     "start_time": "2025-09-25T17:13:12.601576Z"
    }
   },
   "outputs": [],
   "source": [
    "load_dotenv()\n",
    "\n",
    "# Set the API key from environment variable\n",
    "os.environ['GOOGLE_API_KEY'] = os.getenv('GOOGLE_API_KEY', '')\n",
    "\n",
    "client = genai.Client()"
   ]
  },
  {
   "cell_type": "markdown",
   "id": "175586b4-acdf-4103-8039-134478a4f797",
   "metadata": {},
   "source": [
    "### Query 처리"
   ]
  },
  {
   "cell_type": "code",
   "execution_count": 11,
   "id": "12a896e0-3f56-417e-aa51-c61756048593",
   "metadata": {
    "ExecuteTime": {
     "end_time": "2025-09-25T17:13:39.567920Z",
     "start_time": "2025-09-25T17:13:39.559171Z"
    }
   },
   "outputs": [],
   "source": [
    "def process_query(query):\n",
    "    \n",
    "    config = types.GenerateContentConfig(tools=[tools])\n",
    "    \n",
    "    response = client.models.generate_content(\n",
    "        model='gemini-2.5-flash',\n",
    "        contents=query,\n",
    "        config=config\n",
    "    )\n",
    "    \n",
    "    process_query = True\n",
    "    while process_query:\n",
    "        \n",
    "        for part in response.candidates[0].content.parts:\n",
    "            if hasattr(part, 'text') and part.text:\n",
    "                print(part.text)\n",
    "                process_query = False\n",
    "                break\n",
    "            \n",
    "            elif hasattr(part, 'function_call') and part.function_call:\n",
    "                \n",
    "                function_call = part.function_call\n",
    "                tool_name = function_call.name\n",
    "                tool_args = dict(function_call.args)\n",
    "                \n",
    "                print(f\"Calling tool {tool_name} with args {tool_args}\")\n",
    "                \n",
    "                result = execute_tool(tool_name, tool_args)\n",
    "                \n",
    "                # Continue conversation with function response\n",
    "                function_response = types.FunctionResponse(\n",
    "                    name=tool_name, \n",
    "                    response={\"result\": result}\n",
    "                )\n",
    "                \n",
    "                response = client.models.generate_content(\n",
    "                    model='gemini-2.5-flash',\n",
    "                    contents=[\n",
    "                        types.Content(role='user', parts=[types.Part(text=query)]),\n",
    "                        types.Content(role='model', parts=[types.Part(function_call=function_call)]),\n",
    "                        types.Content(role='function', parts=[types.Part(function_response=function_response)])\n",
    "                    ],\n",
    "                    config=config\n",
    "                )\n",
    "                \n",
    "                # Print the final response\n",
    "                if response.candidates[0].content.parts:\n",
    "                    for final_part in response.candidates[0].content.parts:\n",
    "                        if hasattr(final_part, 'text') and final_part.text:\n",
    "                            print(final_part.text)\n",
    "                            break\n",
    "                process_query = False"
   ]
  },
  {
   "cell_type": "markdown",
   "id": "2921ee7f-d2be-464b-ab7b-8db2a3c13ba9",
   "metadata": {},
   "source": [
    "### Chat Loop"
   ]
  },
  {
   "cell_type": "code",
   "execution_count": 12,
   "id": "16979cdc-81e9-432b-ba7f-e810b52961e8",
   "metadata": {
    "ExecuteTime": {
     "end_time": "2025-09-25T17:13:41.045364Z",
     "start_time": "2025-09-25T17:13:41.043418Z"
    }
   },
   "outputs": [],
   "source": [
    "def chat_loop():\n",
    "    print(\"Type your queries or 'quit' to exit.\")\n",
    "    while True:\n",
    "        try:\n",
    "            query = input(\"\\nQuery: \").strip()\n",
    "            if query.lower() == 'quit':\n",
    "                break\n",
    "    \n",
    "            process_query(query)\n",
    "            print(\"\\n\")\n",
    "        except Exception as e:\n",
    "            print(f\"\\nError: {str(e)}\")"
   ]
  },
  {
   "cell_type": "markdown",
   "id": "1cfaf254-f22a-4951-885e-1d21fbc41ff3",
   "metadata": {},
   "source": [
    "Chatbot과 자유롭게 상호작용해 보세요. 예시 query:\n",
    "\n",
    "- \"LLM interpretability\"에 관한 논문 2편 검색해줘"
   ]
  },
  {
   "cell_type": "code",
   "execution_count": 13,
   "id": "39676f70-1c72-4da3-8363-da281bd5a83e",
   "metadata": {
    "ExecuteTime": {
     "end_time": "2025-09-25T17:14:51.983208Z",
     "start_time": "2025-09-25T17:13:44.894762Z"
    }
   },
   "outputs": [
    {
     "name": "stdout",
     "output_type": "stream",
     "text": [
      "Type your queries or 'quit' to exit.\n",
      "Calling tool search_papers with args {'topic': 'ai'}\n",
      "Results are saved in: papers/ai/papers_info.json\n",
      "네, AI 관련 논문 다섯 편을 찾았습니다. 제목과 초록 등 자세한 정보를 원하시면 논문의 ID를 알려주세요.\n",
      "\n",
      "\n",
      "어떤 정보에 대한 ID를 찾고 계신가요? 찾으시는 정보의 주제를 알려주시면 관련 논문을 검색하여 ID를 알려드릴 수 있습니다.\n",
      "\n",
      "\n",
      "Calling tool search_papers with args {'topic': 'ai'}\n",
      "Results are saved in: papers/ai/papers_info.json\n",
      "AI 관련 논문들의 ID는 다음과 같습니다: 2409.12922v1, 2406.11563v3, 2402.07632v3, 2211.05075v1, 2403.15481v2.\n",
      "\n",
      "\n",
      "Calling tool extract_info with args {'paper_id': '2409.12922v1'}\n",
      "\"AI Thinking: A framework for rethinking artificial intelligence in practice\" 논문에 대한 정보를 찾았습니다. \n",
      "\n",
      "**저자**: Denis Newman-Griffis\n",
      "**발행일**: 2024년 8월 26일\n",
      "**요약**: 이 논문은 인공지능이 정보를 다루는 방식을 변화시키고 있으며, AI 사용에 대한 다양한 학문 분야의 이해를 통합할 필요성을 강조합니다. 저자는 AI 사용과 관련된 주요 결정 및 고려 사항을 모델링하는 AI 사고라는 새로운 개념적 프레임워크를 제안합니다. 이 모델은 정보 프로세스에서 AI 사용 동기 부여, AI 방법 공식화, 사용 가능한 도구 및 기술 평가, 적절한 데이터 선택, AI를 사용되는 사회 기술적 맥락에 배치하는 다섯 가지 실천 기반 역량을 다룹니다.\n",
      "\n",
      "자세한 내용은 다음 PDF에서 확인하실 수 있습니다: http://arxiv.org/pdf/2409.12922v1\n",
      "\n",
      "\n",
      "\n"
     ]
    }
   ],
   "source": [
    "chat_loop()"
   ]
  },
  {
   "cell_type": "markdown",
   "id": "508916f3-8fa1-4e21-bfa7-081a810bc36c",
   "metadata": {},
   "source": [
    "다음 수업에서는 tool 정의를 추출하여 MCP server로 래핑할 것입니다. 그런 다음 chatbot 내부에 MCP client를 생성하여 chatbot을 MCP 호환으로 만들 것입니다."
   ]
  }
 ],
 "metadata": {
  "kernelspec": {
   "display_name": "mcp-chatbot-2",
   "language": "python",
   "name": "python3"
  },
  "language_info": {
   "codemirror_mode": {
    "name": "ipython",
    "version": 3
   },
   "file_extension": ".py",
   "mimetype": "text/x-python",
   "name": "python",
   "nbconvert_exporter": "python",
   "pygments_lexer": "ipython3",
   "version": "3.11.13"
  }
 },
 "nbformat": 4,
 "nbformat_minor": 5
}
