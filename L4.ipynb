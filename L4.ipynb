{
 "cells": [
  {
   "cell_type": "markdown",
   "id": "d7775637-f5c6-4794-8fc6-11ef56381af9",
   "metadata": {},
   "source": [
    "# Lesson 4: Creating an MCP Server"
   ]
  },
  {
   "cell_type": "markdown",
   "id": "0baf214c-08f1-4aaf-a798-abfd95ef84a1",
   "metadata": {},
   "source": [
    "이 레슨에서는 이전 레슨의 chatbot tool들을 래핑하여 2개의 tool을 노출하는 MCP server를 구축할 것입니다. 여기서는 `stdio` transport를 사용하고 제공된 로컬 environment에서 server를 실행할 것입니다. 원격 server에 대해서는 다른 레슨에서 더 자세히 배울 예정입니다."
   ]
  },
  {
   "cell_type": "markdown",
   "id": "9f1319da",
   "metadata": {},
   "source": [
    "## How can you create an MCP Server? - *Additional Note*"
   ]
  },
  {
   "cell_type": "markdown",
   "id": "e4c44bfe",
   "metadata": {},
   "source": [
    "MCP server를 생성하는 방법은 두 가지가 있습니다:\n",
    "- **low-level implementation**: 이 접근법에서는 다양한 유형의 request들(`ListToolsRequest`와 `CallToolRequest`)을 직접 정의하고 처리합니다. 이 접근법을 통해 server의 모든 측면을 커스터마이징할 수 있습니다.\n",
    "- **`FastMCP`를 사용한 high-level implementation**: `FastMCP`는 MCP server 구축을 더 빠르고 간단하게 만드는 high-level interface입니다. 이 접근법에서는 tool들을 function으로 정의하는 것에만 집중하면 되고, `FastMCP`가 모든 protocol 세부사항을 처리합니다.\n",
    "\n",
    "이 레슨에서는 `FastMCP`를 사용할 것입니다. low-level 접근법에 대해 더 자세히 알고 싶다면, 이 notebook 마지막에 있는 resource들을 확인해 보세요."
   ]
  },
  {
   "cell_type": "markdown",
   "id": "1918e37d-deec-4aea-b7db-b17a67c7d723",
   "metadata": {},
   "source": [
    "## Building your MCP Server using `FastMCP`"
   ]
  },
  {
   "cell_type": "markdown",
   "id": "f98be372",
   "metadata": {},
   "source": [
    "MCP server에 필요한 file들을 `mcp_project` folder에 구축할 것입니다. 다음 레슨들에서 이 project folder에 더 많은 file들을 점진적으로 추가하거나 업데이트할 예정입니다. `mcp_project` folder는 제공되어 있습니다. 먼저 server의 python file인 `research_server.py`를 생성하여 `mcp_project` folder에 저장한 다음, server를 실행할 environment를 준비할 것입니다."
   ]
  },
  {
   "cell_type": "markdown",
   "id": "cc1975ae-1c7f-4a2d-9571-969c45337fc9",
   "metadata": {},
   "source": [
    "`FastMCP`를 사용하여 MCP server를 생성하려면, `mcp`라는 label로 `FastMCP` server를 초기화하고 function들을 `@mcp.tool()`로 decorating해야 합니다. `FastMCP`는 type hint와 docstring을 기반으로 필요한 MCP schema를 자동으로 생성합니다.\n",
    "\n",
    "\n",
    "**참고**: magic function `%%writefile mcp_project/research_server.py`는 code를 실행하지 않고 cell의 내용을 `mcp_project` directory의 server file `research_server.py`에 저장합니다. magic function을 제거하고 cell을 실행하면, code는 Jupyter notebook에서 실행되지 않습니다. 다음 section에서 terminal에서 server를 실행할 것입니다."
   ]
  },
  {
   "cell_type": "code",
   "id": "pl6kneleqzd",
   "metadata": {
    "ExecuteTime": {
     "end_time": "2025-09-25T17:15:46.144962Z",
     "start_time": "2025-09-25T17:15:46.141974Z"
    }
   },
   "source": [
    "import os\n",
    "os.makedirs('mcp_project', exist_ok=True)"
   ],
   "outputs": [],
   "execution_count": 1
  },
  {
   "cell_type": "code",
   "id": "e64a875d-d5f0-4e97-9df7-3d8863d65466",
   "metadata": {
    "ExecuteTime": {
     "end_time": "2025-09-25T17:15:46.899536Z",
     "start_time": "2025-09-25T17:15:46.895264Z"
    }
   },
   "source": [
    "%%writefile mcp_project/research_server.py\n",
    "\n",
    "import arxiv\n",
    "import json\n",
    "import os\n",
    "from typing import List\n",
    "from mcp.server.fastmcp import FastMCP\n",
    "\n",
    "\n",
    "PAPER_DIR = \"papers\"\n",
    "\n",
    "# Initialize FastMCP server\n",
    "mcp = FastMCP(\"research\")\n",
    "\n",
    "@mcp.tool()\n",
    "def search_papers(topic: str, max_results: int = 5) -> List[str]:\n",
    "    \"\"\"\n",
    "    Search for papers on arXiv based on a topic and store their information.\n",
    "    \n",
    "    Args:\n",
    "        topic: The topic to search for\n",
    "        max_results: Maximum number of results to retrieve (default: 5)\n",
    "        \n",
    "    Returns:\n",
    "        List of paper IDs found in the search\n",
    "    \"\"\"\n",
    "    \n",
    "    # Use arxiv to find the papers \n",
    "    client = arxiv.Client()\n",
    "\n",
    "    # Search for the most relevant articles matching the queried topic\n",
    "    search = arxiv.Search(\n",
    "        query = topic,\n",
    "        max_results = max_results,\n",
    "        sort_by = arxiv.SortCriterion.Relevance\n",
    "    )\n",
    "\n",
    "    papers = client.results(search)\n",
    "    \n",
    "    # Create directory for this topic\n",
    "    path = os.path.join(PAPER_DIR, topic.lower().replace(\" \", \"_\"))\n",
    "    os.makedirs(path, exist_ok=True)\n",
    "    \n",
    "    file_path = os.path.join(path, \"papers_info.json\")\n",
    "\n",
    "    # Try to load existing papers info\n",
    "    try:\n",
    "        with open(file_path, \"r\") as json_file:\n",
    "            papers_info = json.load(json_file)\n",
    "    except (FileNotFoundError, json.JSONDecodeError):\n",
    "        papers_info = {}\n",
    "\n",
    "    # Process each paper and add to papers_info  \n",
    "    paper_ids = []\n",
    "    for paper in papers:\n",
    "        paper_ids.append(paper.get_short_id())\n",
    "        paper_info = {\n",
    "            'title': paper.title,\n",
    "            'authors': [author.name for author in paper.authors],\n",
    "            'summary': paper.summary,\n",
    "            'pdf_url': paper.pdf_url,\n",
    "            'published': str(paper.published.date())\n",
    "        }\n",
    "        papers_info[paper.get_short_id()] = paper_info\n",
    "    \n",
    "    # Save updated papers_info to json file\n",
    "    with open(file_path, \"w\") as json_file:\n",
    "        json.dump(papers_info, json_file, indent=2)\n",
    "    \n",
    "    print(f\"Results are saved in: {file_path}\")\n",
    "    \n",
    "    return paper_ids\n",
    "\n",
    "@mcp.tool()\n",
    "def extract_info(paper_id: str) -> str:\n",
    "    \"\"\"\n",
    "    Search for information about a specific paper across all topic directories.\n",
    "    \n",
    "    Args:\n",
    "        paper_id: The ID of the paper to look for\n",
    "        \n",
    "    Returns:\n",
    "        JSON string with paper information if found, error message if not found\n",
    "    \"\"\"\n",
    " \n",
    "    for item in os.listdir(PAPER_DIR):\n",
    "        item_path = os.path.join(PAPER_DIR, item)\n",
    "        if os.path.isdir(item_path):\n",
    "            file_path = os.path.join(item_path, \"papers_info.json\")\n",
    "            if os.path.isfile(file_path):\n",
    "                try:\n",
    "                    with open(file_path, \"r\") as json_file:\n",
    "                        papers_info = json.load(json_file)\n",
    "                        if paper_id in papers_info:\n",
    "                            return json.dumps(papers_info[paper_id], indent=2)\n",
    "                except (FileNotFoundError, json.JSONDecodeError) as e:\n",
    "                    print(f\"Error reading {file_path}: {str(e)}\")\n",
    "                    continue\n",
    "    \n",
    "    return f\"There's no saved information related to paper {paper_id}.\"\n",
    "\n",
    "\n",
    "\n",
    "if __name__ == \"__main__\":\n",
    "    # Initialize and run the server\n",
    "    mcp.run(transport='stdio')"
   ],
   "outputs": [
    {
     "name": "stdout",
     "output_type": "stream",
     "text": [
      "Writing mcp_project/research_server.py\n"
     ]
    }
   ],
   "execution_count": 2
  },
  {
   "cell_type": "markdown",
   "id": "3583848c-9fab-4408-8114-30262b6d50a0",
   "metadata": {},
   "source": [
    "## Setting up your Environment & Testing your Server"
   ]
  },
  {
   "cell_type": "markdown",
   "id": "eda041e2-3c71-4b9a-923a-89ab7c9a0b1f",
   "metadata": {},
   "source": [
    "이제 server를 실행하고 테스트하는 데 사용할 environment를 설정할 것입니다. 이를 위해 Python environment 관리를 도와주는 `uv` tool을 사용할 것입니다. 이 tool은 project file들을 자동으로 설정하고 package dependency들을 관리합니다."
   ]
  },
  {
   "cell_type": "markdown",
   "id": "4fd63602",
   "metadata": {},
   "source": [
    "**Terminal Instructions**"
   ]
  },
  {
   "cell_type": "code",
   "execution_count": null,
   "id": "38b33fe4-36d7-464b-8056-a76e1e0219b7",
   "metadata": {},
   "outputs": [
    {
     "name": "stdout",
     "output_type": "stream",
     "text": [
      "To run the MCP server locally:\n",
      "1. Open your system terminal\n",
      "2. Navigate to the mcp_project directory: cd mcp_project\n",
      "3. Create virtual environment: uv venv\n",
      "4. Activate virtual environment: source .venv/bin/activate\n",
      "5. Install dependencies: uv add mcp arxiv\n",
      "6. Launch inspector: npx @modelcontextprotocol/inspector uv run research_server.py\n"
     ]
    }
   ],
   "source": "npx @modelcontextprotocol/inspector python3 research_server.py"
  }
 ],
 "metadata": {
  "kernelspec": {
   "display_name": "mcp-chatbot-2",
   "language": "python",
   "name": "python3"
  },
  "language_info": {
   "codemirror_mode": {
    "name": "ipython",
    "version": 3
   },
   "file_extension": ".py",
   "mimetype": "text/x-python",
   "name": "python",
   "nbconvert_exporter": "python",
   "pygments_lexer": "ipython3",
   "version": "3.11.13"
  }
 },
 "nbformat": 4,
 "nbformat_minor": 5
}
